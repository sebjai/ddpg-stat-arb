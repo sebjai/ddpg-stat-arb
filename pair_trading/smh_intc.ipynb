{
 "cells": [
  {
   "cell_type": "code",
   "execution_count": 1,
   "metadata": {},
   "outputs": [],
   "source": [
    "import matplotlib.pyplot as plt\n",
    "import numpy as np\n",
    "import pandas as pd\n",
    "from pandas.tseries.offsets import *\n",
    "import statsmodels.formula.api as smf\n",
    "from glob import glob\n",
    "from datetime import datetime\n"
   ]
  },
  {
   "cell_type": "code",
   "execution_count": 2,
   "metadata": {},
   "outputs": [
    {
     "name": "stdout",
     "output_type": "stream",
     "text": [
      "0.05 million observations\n",
      "0.05 million observations\n"
     ]
    }
   ],
   "source": [
    "\n",
    "msg_files = glob(\"C:/Users/macri/Desktop/smh/*message*.csv\")\n",
    "lob_files = glob(\"C:/Users/macri/Desktop/smh/*order*.csv\")\n",
    "\n",
    "d0 = datetime(2020,1,2)\n",
    "dfs = []\n",
    "for day, file in enumerate(np.sort(msg_files)[:]):\n",
    "    te = pd.read_csv(file, header=None, low_memory=False)\n",
    "    te['Day'] = d0 + BDay(day)\n",
    "    dfs.append(te)\n",
    "df_msg = pd.concat(dfs)\n",
    "\n",
    "print(\"{0:0.2f} million observations\".format(len(df_msg)/10**6))\n",
    "df_msg.columns = ['Time', 'Event', 'ID', 'Size', 'Price', 'Direction', '?', 'Day']\n",
    "df_msg = df_msg.drop(['?'], axis=1)\n",
    "df_msg['Execution'] = np.where(df_msg['Event'].isin([4,5]), 1, 0)\n",
    "dfs = []\n",
    "for file in np.sort(lob_files)[:]:\n",
    "    te = pd.read_csv(file, header=None)\n",
    "    dfs.append(te)\n",
    "df_lob  = pd.concat(dfs)\n",
    "cols = np.ravel([['AP%d'%level, 'AS%d'%level, 'BP%d'%level, 'BS%d'%level] for level in [1]])\n",
    "df_lob.columns = cols\n",
    "print(\"{0:0.2f} million observations\".format(len(df_lob)/10**6))\n",
    "df_lob = df_lob/10_000\n",
    "df_lob.head()\n",
    "\n",
    "smh = (df_lob['AP1'].to_numpy() + df_lob['BP1'].to_numpy())/2\n",
    "smh = smh"
   ]
  },
  {
   "cell_type": "code",
   "execution_count": 3,
   "metadata": {},
   "outputs": [
    {
     "name": "stdout",
     "output_type": "stream",
     "text": [
      "0.31 million observations\n",
      "0.31 million observations\n"
     ]
    }
   ],
   "source": [
    "\n",
    "msg_files = glob(\"C:/Users/macri/Desktop/intc/*message*.csv\")\n",
    "lob_files = glob(\"C:/Users/macri/Desktop/intc/*order*.csv\")\n",
    "\n",
    "d0 = datetime(2020,1,2)\n",
    "dfs = []\n",
    "for day, file in enumerate(np.sort(msg_files)[:]):\n",
    "    te = pd.read_csv(file, header=None, low_memory=False)\n",
    "    te['Day'] = d0 + BDay(day)\n",
    "    dfs.append(te)\n",
    "df_msg = pd.concat(dfs)\n",
    "\n",
    "print(\"{0:0.2f} million observations\".format(len(df_msg)/10**6))\n",
    "df_msg.columns = ['Time', 'Event', 'ID', 'Size', 'Price', 'Direction', '?', 'Day']\n",
    "df_msg = df_msg.drop(['?'], axis=1)\n",
    "df_msg['Execution'] = np.where(df_msg['Event'].isin([4,5]), 1, 0)\n",
    "dfs = []\n",
    "for file in np.sort(lob_files)[:]:\n",
    "    te = pd.read_csv(file, header=None)\n",
    "    dfs.append(te)\n",
    "df_lob  = pd.concat(dfs)\n",
    "cols = np.ravel([['AP%d'%level, 'AS%d'%level, 'BP%d'%level, 'BS%d'%level] for level in [1]])\n",
    "df_lob.columns = cols\n",
    "print(\"{0:0.2f} million observations\".format(len(df_lob)/10**6))\n",
    "df_lob = df_lob/10_000\n",
    "df_lob.head()\n",
    "\n",
    "intc = (df_lob['AP1'].to_numpy() + df_lob['BP1'].to_numpy())/2\n",
    "intc = intc[:len(smh)]"
   ]
  },
  {
   "cell_type": "code",
   "execution_count": 4,
   "metadata": {},
   "outputs": [
    {
     "name": "stdout",
     "output_type": "stream",
     "text": [
      "Is cointegrated: [ True  True]\n"
     ]
    }
   ],
   "source": [
    "smh  = smh[:len(intc)]\n",
    "intc = intc\n",
    "\n",
    "from statsmodels.tsa.vector_ar.vecm import coint_johansen\n",
    "\n",
    "# Assuming you have two time series variables x and y\n",
    "x = smh\n",
    "y = intc\n",
    "\n",
    "# Combine the variables into a 2D array\n",
    "data = np.column_stack((x, y))\n",
    "\n",
    "# Perform the Johansen cointegration test\n",
    "result = coint_johansen(data, det_order=0, k_ar_diff=1)\n",
    "\n",
    "# Extract the test statistics and critical values\n",
    "test_statistic = result.lr1[0]\n",
    "critical_values = result.cvt[:, 0]  # Assuming you want the critical values for the 0th eigenvalue\n",
    "\n",
    "# Compare the test statistic with the critical values to determine cointegration\n",
    "is_cointegrated = test_statistic > critical_values\n",
    "\n",
    "# Print the results\n",
    "print(\"Is cointegrated:\", is_cointegrated)"
   ]
  },
  {
   "cell_type": "code",
   "execution_count": 5,
   "metadata": {},
   "outputs": [
    {
     "name": "stdout",
     "output_type": "stream",
     "text": [
      "  Summary of Regression Results   \n",
      "==================================\n",
      "Model:                         VAR\n",
      "Method:                        OLS\n",
      "Date:           Fri, 19, Jul, 2024\n",
      "Time:                     04:50:26\n",
      "--------------------------------------------------------------------\n",
      "No. of Equations:         2.00000    BIC:                   -24.7349\n",
      "Nobs:                     50975.0    HQIC:                  -24.7357\n",
      "Log likelihood:           485804.    FPE:                1.80842e-11\n",
      "AIC:                     -24.7360    Det(Omega_mle):     1.80821e-11\n",
      "--------------------------------------------------------------------\n",
      "Results for equation SMH\n",
      "==========================================================================\n",
      "             coefficient       std. error           t-stat            prob\n",
      "--------------------------------------------------------------------------\n",
      "const          -0.106113         0.029875           -3.552           0.000\n",
      "L1.SMH          0.996836         0.000354         2818.608           0.000\n",
      "L1.INTC         0.009604         0.001553            6.183           0.000\n",
      "==========================================================================\n",
      "\n",
      "Results for equation INTC\n",
      "==========================================================================\n",
      "             coefficient       std. error           t-stat            prob\n",
      "--------------------------------------------------------------------------\n",
      "const           0.005354         0.001784            3.000           0.003\n",
      "L1.SMH          0.000060         0.000021            2.849           0.004\n",
      "L1.INTC         0.999682         0.000093        10775.139           0.000\n",
      "==========================================================================\n",
      "\n",
      "Correlation matrix of residuals\n",
      "             SMH      INTC\n",
      "SMH     1.000000  0.010186\n",
      "INTC    0.010186  1.000000\n",
      "\n",
      "\n",
      "\n"
     ]
    },
    {
     "data": {
      "text/plain": [
       "(None,\n",
       "               SMH      INTC\n",
       " const   -0.106113  0.005354\n",
       " L1.SMH   0.996836  0.000060\n",
       " L1.INTC  0.009604  0.999682)"
      ]
     },
     "execution_count": 5,
     "metadata": {},
     "output_type": "execute_result"
    }
   ],
   "source": [
    "from statsmodels.tsa.vector_ar.var_model import VAR\n",
    "\n",
    "# Combine the price series of Apple and Amazon into a single DataFrame\n",
    "price_df = pd.DataFrame({'SMH': (smh), 'INTC': (intc)})\n",
    "\n",
    "# Fit the VAR model\n",
    "model = VAR(price_df)\n",
    "results = model.fit()\n",
    "\n",
    "# Print the summary of the model\n",
    "print(results.summary()), results.params"
   ]
  },
  {
   "cell_type": "code",
   "execution_count": 6,
   "metadata": {},
   "outputs": [
    {
     "data": {
      "text/plain": [
       "(array([[ 3.16351437e-03, -6.01845425e-05],\n",
       "        [-9.60435487e-03,  3.18456609e-04]]),\n",
       " array([[41.05512143, 24.57130413]]))"
      ]
     },
     "execution_count": 6,
     "metadata": {},
     "output_type": "execute_result"
    }
   ],
   "source": [
    "A = results.params[:1].values\n",
    "B = results.params[1:].values\n",
    "\n",
    "eye = np.eye(2)\n",
    "Dt = 1\n",
    "\n",
    "k = (eye - B)\n",
    "theta = A@np.linalg.inv(k)\n",
    "k, theta # k is the cointegration matrix, theta is the mean-reversion level"
   ]
  },
  {
   "cell_type": "code",
   "execution_count": 7,
   "metadata": {},
   "outputs": [
    {
     "data": {
      "text/plain": [
       "array([[0.00335394, 0.        ],\n",
       "       [0.        , 0.00012803]])"
      ]
     },
     "execution_count": 7,
     "metadata": {},
     "output_type": "execute_result"
    }
   ],
   "source": [
    "eigenvalues, eigenvectors = np.linalg.eig(k)\n",
    "kappa_tilde = np.diag(eigenvalues)\n",
    "\n",
    "kappa_tilde "
   ]
  },
  {
   "cell_type": "code",
   "execution_count": 8,
   "metadata": {},
   "outputs": [
    {
     "data": {
      "text/plain": [
       "array([[ 3.16351437e-03, -6.01845425e-05],\n",
       "       [-9.60435487e-03,  3.18456609e-04]])"
      ]
     },
     "execution_count": 8,
     "metadata": {},
     "output_type": "execute_result"
    }
   ],
   "source": [
    "eigenvectors @ kappa_tilde @ np.linalg.inv(eigenvectors) # ritrovi k"
   ]
  },
  {
   "cell_type": "code",
   "execution_count": 9,
   "metadata": {},
   "outputs": [
    {
     "data": {
      "text/plain": [
       "array([[127.03213995, 126.95438912, 126.95438912, ..., 126.24844084,\n",
       "        126.24844084, 126.24844084],\n",
       "       [145.67010749, 145.5909557 , 145.5909557 , ..., 144.97270509,\n",
       "        144.97270509, 144.97270509]])"
      ]
     },
     "execution_count": 9,
     "metadata": {},
     "output_type": "execute_result"
    }
   ],
   "source": [
    "S_tilde = np.linalg.inv(eigenvectors)@np.stack([smh, intc], axis=1).T\n",
    "S_tilde # cointegrated series"
   ]
  },
  {
   "cell_type": "code",
   "execution_count": 10,
   "metadata": {},
   "outputs": [],
   "source": [
    "#demonstrates that you can recover either S_tilde_1 or S_tilde_2 from kappa_tilde, and that you can recover the initial series from S_tilde\n",
    "S_tilde_1_hat = np.linalg.inv(eigenvectors)[0,0]*smh + np.linalg.inv(eigenvectors)[0,1]*intc ###################################\n",
    "S_tilde_2_hat = np.linalg.inv(eigenvectors)[1,0]*smh + np.linalg.inv(eigenvectors)[1,1]*intc\n",
    "intc_hat = eigenvectors[0,0]*S_tilde[0] + eigenvectors[0,1]*S_tilde[1]\n",
    "smh_hat  = eigenvectors[1,0]*S_tilde[0] + eigenvectors[1,1]*S_tilde[1]"
   ]
  },
  {
   "cell_type": "code",
   "execution_count": 11,
   "metadata": {},
   "outputs": [
    {
     "data": {
      "text/plain": [
       "array([[ 3.12241481, -0.06190813],\n",
       "       [ 2.97784056,  0.94115488]])"
      ]
     },
     "execution_count": 11,
     "metadata": {},
     "output_type": "execute_result"
    }
   ],
   "source": [
    "np.linalg.inv(eigenvectors)"
   ]
  },
  {
   "cell_type": "code",
   "execution_count": 12,
   "metadata": {},
   "outputs": [
    {
     "data": {
      "image/png": "[encoded data removed]",
      "text/plain": [
       "<Figure size 640x480 with 1 Axes>"
      ]
     },
     "metadata": {},
     "output_type": "display_data"
    }
   ],
   "source": [
    "#plt.plot(S_tilde_1_hat)\n",
    "plt.plot(S_tilde[0])\n",
    "plt.axhline(S_tilde[0].mean(), color='black')\n",
    "plt.axhline(S_tilde[0].mean() + S_tilde[0].std(), color='red', linestyle='--')\n",
    "plt.axhline(S_tilde[0].mean() - S_tilde[0].std(), color='red', linestyle='--')\n",
    "plt.axhline(S_tilde[0].mean() + 0.5*S_tilde[0].std(), color='green', linestyle='-.')\n",
    "plt.axhline(S_tilde[0].mean() - 0.5*S_tilde[0].std(), color='green', linestyle='-.')\n",
    "plt.show()"
   ]
  },
  {
   "cell_type": "code",
   "execution_count": 13,
   "metadata": {},
   "outputs": [
    {
     "data": {
      "text/plain": [
       "(126.61320843438816, 127.30296920616719, 125.92344766260912)"
      ]
     },
     "execution_count": 13,
     "metadata": {},
     "output_type": "execute_result"
    }
   ],
   "source": [
    "S_tilde[0].mean(),S_tilde[0].mean() + 1.5*S_tilde[0].std(), S_tilde[0].mean() -1.5* S_tilde[0].std()"
   ]
  },
  {
   "cell_type": "code",
   "execution_count": 21,
   "metadata": {},
   "outputs": [],
   "source": [
    "import numpy as np\n",
    "import matplotlib.pyplot as plt\n",
    "\n",
    "es = (S_tilde[0] - S_tilde[0].mean()) / S_tilde[0].std() #2*(S_tilde[0] - S_tilde[0].min()) / (S_tilde[0].max() - S_tilde[0].min())-1\n",
    "\n",
    "# Calculate the mean and standard deviation\n",
    "mean = es.mean()\n",
    "std = es.std()\n",
    "\n",
    "# Create the matrix\n",
    "matrix = np.zeros((len(es), 2))\n",
    "matrix[:, 0] = es\n",
    "matrix[:, 1] = mean\n",
    "\n",
    "# Initialize the second column with zeros (or any placeholder)\n",
    "a = []\n",
    "\n",
    "j = 0\n",
    "for i in range(len(es)):\n",
    "    j +=1\n",
    "\n",
    "    if es[i] >= (mean ):\n",
    "        matrix[i, 1] = mean +  1*std\n",
    "    if es[i] < (mean  ):\n",
    "        matrix[i, 1] = mean -  1*std\n",
    "\n",
    "# Assign the calculated values to the second column of the matrix\n",
    "#matrix[:, 1] = a\n",
    "\n"
   ]
  },
  {
   "cell_type": "code",
   "execution_count": 22,
   "metadata": {},
   "outputs": [
    {
     "data": {
      "text/plain": [
       "(126.61320843438816, 0.45984051451935737)"
      ]
     },
     "execution_count": 22,
     "metadata": {},
     "output_type": "execute_result"
    }
   ],
   "source": [
    "S_tilde[0].mean(),S_tilde[0].std()"
   ]
  },
  {
   "cell_type": "code",
   "execution_count": 23,
   "metadata": {},
   "outputs": [
    {
     "data": {
      "image/png": "[encoded data removed]",
      "text/plain": [
       "<Figure size 640x480 with 1 Axes>"
      ]
     },
     "metadata": {},
     "output_type": "display_data"
    },
    {
     "data": {
      "text/plain": [
       "0.06649198052433175"
      ]
     },
     "execution_count": 23,
     "metadata": {},
     "output_type": "execute_result"
    }
   ],
   "source": [
    "plt.plot(matrix[:, 0], label='Original')\n",
    "plt.plot(matrix[:, 1], label='Mean')\n",
    "plt.legend()    \n",
    "#plt.axvline(30_000, color='black')\n",
    "plt.show()\n",
    "\n",
    "matrix[:30_000, 1]\n",
    "\n",
    "matrix[11415:12415, 0].std()"
   ]
  },
  {
   "cell_type": "code",
   "execution_count": 24,
   "metadata": {},
   "outputs": [
    {
     "data": {
      "text/plain": [
       "(8.251751796335124e-15, 0.9999999999999998)"
      ]
     },
     "execution_count": 24,
     "metadata": {},
     "output_type": "execute_result"
    }
   ],
   "source": [
    "matrix[:,0].mean(), matrix[:,0].std()"
   ]
  },
  {
   "cell_type": "code",
   "execution_count": 25,
   "metadata": {},
   "outputs": [],
   "source": [
    "np.save('matrix.npy', matrix)"
   ]
  },
  {
   "cell_type": "code",
   "execution_count": 26,
   "metadata": {},
   "outputs": [
    {
     "data": {
      "text/plain": [
       "array([[ 0.91103654,  1.        ],\n",
       "       [ 0.74195438,  1.        ],\n",
       "       [ 0.74195438,  1.        ],\n",
       "       ...,\n",
       "       [-0.79324806, -1.        ],\n",
       "       [-0.79324806, -1.        ],\n",
       "       [-0.79324806, -1.        ]])"
      ]
     },
     "execution_count": 26,
     "metadata": {},
     "output_type": "execute_result"
    }
   ],
   "source": [
    "np.load('matrix.npy')"
   ]
  },
  {
   "cell_type": "markdown",
   "metadata": {},
   "source": [
    "Trading strategy will be to buy if either trading signal $\\tilde{S}^{1,2}_t$ goes down and to sell when the trading signal goes up, thresholds for up and down are the standard deviations of the signals.\n",
    "Reward is thus:\n",
    "$$ r_t = X_t + \\beta_t (A S^\\text{intc}_t + B S^\\text{smh}_{t}) $$\n",
    "\n",
    "where $X_t$ is the running cash and A, B are the elements in eigenvector matrix either (0,0) and (0,1) or the opposite, depending if the trading signal to follow is $\\tilde{S}^{1}_t$ or $\\tilde{S}^{2}_t$"
   ]
  }
 ],
 "metadata": {
  "kernelspec": {
   "display_name": "Python 3",
   "language": "python",
   "name": "python3"
  },
  "language_info": {
   "codemirror_mode": {
    "name": "ipython",
    "version": 3
   },
   "file_extension": ".py",
   "mimetype": "text/x-python",
   "name": "python",
   "nbconvert_exporter": "python",
   "pygments_lexer": "ipython3",
   "version": "3.10.11"
  }
 },
 "nbformat": 4,
 "nbformat_minor": 2
}
